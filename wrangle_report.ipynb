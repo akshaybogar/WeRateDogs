{
 "cells": [
  {
   "cell_type": "markdown",
   "metadata": {},
   "source": [
    " ## Wrangle Report"
   ]
  },
  {
   "cell_type": "markdown",
   "metadata": {},
   "source": [
    "### 1. Data Gathering"
   ]
  },
  {
   "cell_type": "markdown",
   "metadata": {},
   "source": [
    "1.1 twitter-archived-enhanced.csv file downloaded manually and read into dataframe twitter_arch."
   ]
  },
  {
   "cell_type": "markdown",
   "metadata": {},
   "source": [
    "1.2 image-predictions.tsv downloaded using python response library and read into image_df dataframe."
   ]
  },
  {
   "cell_type": "markdown",
   "metadata": {},
   "source": [
    "1.3 Using tweepy API, data is gathered from twitter and read into df_retweet dataframe."
   ]
  },
  {
   "cell_type": "markdown",
   "metadata": {},
   "source": [
    "### 2. Assessing and Cleaning Data"
   ]
  },
  {
   "cell_type": "markdown",
   "metadata": {},
   "source": [
    "#### 2.1 Tidiness issues"
   ]
  },
  {
   "cell_type": "markdown",
   "metadata": {},
   "source": [
    "2.1.1 duggo, floofer, pupper and puppo columns in twitter_arch dataframe must be consolidated to a single column \"stage\"."
   ]
  },
  {
   "cell_type": "markdown",
   "metadata": {},
   "source": [
    "2.1.2 df_retweet and image_df dataframes should be merged with twitter_arch dataframe."
   ]
  },
  {
   "cell_type": "markdown",
   "metadata": {},
   "source": [
    "#### 2.2 Quality issues"
   ]
  },
  {
   "cell_type": "markdown",
   "metadata": {},
   "source": [
    "2.2.1 We are not considering retweet values and hence removing rows containing retweet values.\n",
    "\n",
    "\n",
    "Lot of missing values in in_reply_to status_id, in_reply_to_user_id, retweeted_status_id, retweeted_status_user_id and retweeted_status_timestamp,expanded_url columns which will not help in analysis of the data. Hence, these columns are dropped."
   ]
  },
  {
   "cell_type": "markdown",
   "metadata": {},
   "source": [
    "2.2.2 Timestamp column in twitter_arch dataframe contains \"+0000\" which is not of much use. Hence, trimming the column values."
   ]
  },
  {
   "cell_type": "markdown",
   "metadata": {},
   "source": [
    "2.2.3 'Source' column values in twitter_arch dataframe contains URLs which is difficult to read; therefore trimming column values."
   ]
  },
  {
   "cell_type": "markdown",
   "metadata": {},
   "source": [
    "2.2.4 'rating_numerator' and 'rating_denominator' columns in twitter_arch contains lot of erraneous values.\n",
    "* These values are fetched from 'text' column.\n",
    "* 'rating_numerator' and 'rating_denominator' column data types changed to float."
   ]
  },
  {
   "cell_type": "markdown",
   "metadata": {},
   "source": [
    "2.2.5 'name' column in twitter_arch contains values like a, an etc. These values are fixed by replacing them with 'None'."
   ]
  },
  {
   "cell_type": "markdown",
   "metadata": {},
   "source": [
    "2.2.6 'timestamp' in twitter_arch column datatype is not correct. This is fixed."
   ]
  },
  {
   "cell_type": "markdown",
   "metadata": {},
   "source": [
    "2.2.7 Column names in image_df are modified as follows: \n",
    "p1:prediction1\n",
    "p1_conf:prediction1_conf\n",
    "p1_dog:prediction1_dog\n",
    "p2:prediction2\n",
    "p2_conf:prediction2_conf\n",
    "p2_dog:prediction2_dog\n",
    "p3:prediction3\n",
    "p3_conf:prediction3_conf\n",
    "p3_dog:prediction3_dog"
   ]
  },
  {
   "cell_type": "markdown",
   "metadata": {},
   "source": [
    "2.2.8 Case in column values of image_df is not consistent. These values are now title cased."
   ]
  },
  {
   "cell_type": "markdown",
   "metadata": {},
   "source": [
    "2.2.9 'rating' column is created in twitter_arch dataframe by performing rating_numerator/rating_denominator for better comparison."
   ]
  },
  {
   "cell_type": "markdown",
   "metadata": {},
   "source": [
    "*Note: Assessing and Cleaning process can differ from one individual to another and is based on the conclusions that one wants to derive from the data gathered.*"
   ]
  },
  {
   "cell_type": "markdown",
   "metadata": {},
   "source": [
    "*twitter_arch is cleaned and stored in twitter_archive_master.csv.*"
   ]
  }
 ],
 "metadata": {
  "kernelspec": {
   "display_name": "Python 3",
   "language": "python",
   "name": "python3"
  },
  "language_info": {
   "codemirror_mode": {
    "name": "ipython",
    "version": 3
   },
   "file_extension": ".py",
   "mimetype": "text/x-python",
   "name": "python",
   "nbconvert_exporter": "python",
   "pygments_lexer": "ipython3",
   "version": "3.6.5"
  }
 },
 "nbformat": 4,
 "nbformat_minor": 2
}
